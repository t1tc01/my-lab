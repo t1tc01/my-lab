{
 "cells": [
  {
   "cell_type": "code",
   "execution_count": 2,
   "metadata": {},
   "outputs": [],
   "source": [
    "from datasets import load_dataset\n",
    "from qdrant_client.http import models as rest"
   ]
  },
  {
   "cell_type": "code",
   "execution_count": 3,
   "metadata": {},
   "outputs": [],
   "source": [
    "from qdrant_client import QdrantClient\n",
    "from dotenv import load_dotenv\n",
    "from qdrant_client.models import Distance, VectorParams\n",
    "from qdrant_client.models import PointStruct\n",
    "from qdrant_client.models import Filter, FieldCondition, MatchValue\n",
    "import os"
   ]
  },
  {
   "cell_type": "code",
   "execution_count": 4,
   "metadata": {},
   "outputs": [],
   "source": [
    "dataset = load_dataset(\"pubmed_qa\", \"pqa_labeled\")"
   ]
  },
  {
   "cell_type": "code",
   "execution_count": 5,
   "metadata": {},
   "outputs": [],
   "source": [
    "import cohere\n",
    "\n",
    "COHERE_API_KEY = \"KqApPE9kQ9TSKjc8OkD0X9W2YEJlCkQBmg1Xb1tv\"\n",
    "cohere_client = cohere.Client(COHERE_API_KEY)"
   ]
  },
  {
   "cell_type": "code",
   "execution_count": 6,
   "metadata": {},
   "outputs": [
    {
     "name": "stderr",
     "output_type": "stream",
     "text": [
      "unknown field: parameter compress is not a valid field\n"
     ]
    },
    {
     "name": "stdout",
     "output_type": "stream",
     "text": [
      "4096\n"
     ]
    }
   ],
   "source": [
    "# Generating the embeddings with Cohere client library\n",
    "embeddings = cohere_client.embed(\n",
    "    texts=[\"A test sentence\"],\n",
    "    model=\"large\",\n",
    ")\n",
    "vector_size = len(embeddings.embeddings[0])\n",
    "print(vector_size) # output: 4096"
   ]
  },
  {
   "cell_type": "code",
   "execution_count": 7,
   "metadata": {},
   "outputs": [
    {
     "data": {
      "text/plain": [
       "4096"
      ]
     },
     "execution_count": 7,
     "metadata": {},
     "output_type": "execute_result"
    }
   ],
   "source": [
    "len(embeddings.embeddings[0])"
   ]
  },
  {
   "cell_type": "code",
   "execution_count": 8,
   "metadata": {},
   "outputs": [
    {
     "name": "stderr",
     "output_type": "stream",
     "text": [
      "unknown field: parameter compress is not a valid field\n",
      "unknown field: parameter compress is not a valid field\n",
      "unknown field: parameter compress is not a valid field\n",
      "unknown field: parameter compress is not a valid field\n",
      "unknown field: parameter compress is not a valid field\n",
      "unknown field: parameter compress is not a valid field\n",
      "unknown field: parameter compress is not a valid field\n",
      "unknown field: parameter compress is not a valid field\n",
      "unknown field: parameter compress is not a valid field\n",
      "unknown field: parameter compress is not a valid field\n"
     ]
    },
    {
     "name": "stderr",
     "output_type": "stream",
     "text": [
      "unknown field: parameter compress is not a valid field\n"
     ]
    }
   ],
   "source": [
    "answer_response = cohere_client.embed(\n",
    "    texts=dataset[\"train\"][\"long_answer\"],\n",
    "    model=\"large\",\n",
    ")\n",
    "vectors = [\n",
    "    # Conversion to float is required for Qdrant\n",
    "    list(map(float, vector)) \n",
    "    for vector in answer_response.embeddings\n",
    "]\n",
    "ids = [entry[\"pubid\"] for entry in dataset[\"train\"]]"
   ]
  },
  {
   "cell_type": "code",
   "execution_count": 9,
   "metadata": {},
   "outputs": [],
   "source": [
    "load_dotenv()\n",
    "\n",
    "qdrant_url = os.getenv('QDRANT_URL')\n",
    "\n",
    "client = QdrantClient(url=qdrant_url)\n"
   ]
  },
  {
   "cell_type": "code",
   "execution_count": 18,
   "metadata": {},
   "outputs": [
    {
     "data": {
      "text/plain": [
       "True"
      ]
     },
     "execution_count": 18,
     "metadata": {},
     "output_type": "execute_result"
    }
   ],
   "source": [
    "client.create_collection(\n",
    "    collection_name=\"pubmed_qa_cohere_4096_v4\",\n",
    "    vectors_config=VectorParams(size=4096, distance=Distance.COSINE),\n",
    ")"
   ]
  },
  {
   "cell_type": "code",
   "execution_count": 19,
   "metadata": {},
   "outputs": [
    {
     "data": {
      "text/plain": [
       "UpdateResult(operation_id=0, status=<UpdateStatus.COMPLETED: 'completed'>)"
      ]
     },
     "execution_count": 19,
     "metadata": {},
     "output_type": "execute_result"
    }
   ],
   "source": [
    "client.upsert(\n",
    "    collection_name=\"pubmed_qa_cohere_4096_v4\", \n",
    "    points=rest.Batch(\n",
    "        ids=ids[0:100],\n",
    "        vectors=vectors[0:100],\n",
    "        payloads=list(dataset[\"train\"])[:100],\n",
    "    )\n",
    ")"
   ]
  },
  {
   "cell_type": "code",
   "execution_count": 20,
   "metadata": {},
   "outputs": [
    {
     "name": "stderr",
     "output_type": "stream",
     "text": [
      "unknown field: parameter compress is not a valid field\n",
      "unknown field: parameter compress is not a valid field\n"
     ]
    }
   ],
   "source": [
    "question_response = cohere_client.embed(\n",
    "    texts=dataset[\"train\"][\"question\"][:100],\n",
    "    model=\"large\",\n",
    ")"
   ]
  },
  {
   "cell_type": "code",
   "execution_count": 21,
   "metadata": {},
   "outputs": [
    {
     "name": "stderr",
     "output_type": "stream",
     "text": [
      "100it [00:00, 232.93it/s]\n"
     ]
    }
   ],
   "source": [
    "import tqdm\n",
    "\n",
    "# Finding the position at which Qdrant provided the expected answer for each question. \n",
    "# That allows to calculate accuracy@k for different values of k.\n",
    "k_max = 10\n",
    "answer_positions = []\n",
    "for embedding, pubid in tqdm.tqdm(zip(question_response.embeddings, ids)):\n",
    "    response = client.search(\n",
    "        collection_name=\"pubmed_qa_cohere_4096_v4\",\n",
    "        query_vector=embedding,\n",
    "        limit=k_max,\n",
    "    )\n",
    "\n",
    "    answer_ids = [record.id for record in response]\n",
    "    if pubid in answer_ids:\n",
    "        answer_positions.append(answer_ids.index(pubid))\n",
    "    else:\n",
    "        answer_positions.append(-1)"
   ]
  },
  {
   "cell_type": "code",
   "execution_count": 25,
   "metadata": {},
   "outputs": [
    {
     "name": "stdout",
     "output_type": "stream",
     "text": [
      "accuracy@1 = 0.94\n",
      "accuracy@2 = 0.95\n",
      "accuracy@3 = 0.95\n",
      "accuracy@4 = 0.97\n",
      "accuracy@5 = 0.98\n",
      "accuracy@6 = 0.98\n",
      "accuracy@7 = 0.98\n",
      "accuracy@8 = 0.99\n",
      "accuracy@9 = 0.99\n",
      "accuracy@10 = 0.99\n"
     ]
    }
   ],
   "source": [
    "# Prepared answer positions are being used to calculate different values of accuracy@k\n",
    "for k in range(1, k_max + 1):\n",
    "    correct_answers = len(\n",
    "        list(\n",
    "            filter(lambda x: 0 <= x < k, answer_positions)\n",
    "        )\n",
    "    )\n",
    "    print(f\"accuracy@{k} =\", correct_answers / 100)"
   ]
  },
  {
   "cell_type": "code",
   "execution_count": null,
   "metadata": {},
   "outputs": [],
   "source": []
  }
 ],
 "metadata": {
  "kernelspec": {
   "display_name": "my-lab",
   "language": "python",
   "name": "python3"
  },
  "language_info": {
   "codemirror_mode": {
    "name": "ipython",
    "version": 3
   },
   "file_extension": ".py",
   "mimetype": "text/x-python",
   "name": "python",
   "nbconvert_exporter": "python",
   "pygments_lexer": "ipython3",
   "version": "3.12.4"
  }
 },
 "nbformat": 4,
 "nbformat_minor": 2
}
