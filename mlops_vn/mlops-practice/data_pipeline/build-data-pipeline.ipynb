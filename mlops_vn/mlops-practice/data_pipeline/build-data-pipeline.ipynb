{
 "cells": [
  {
   "cell_type": "code",
   "execution_count": 4,
   "metadata": {},
   "outputs": [
    {
     "name": "stderr",
     "output_type": "stream",
     "text": [
      "/home/intern-golang01/anaconda3/envs/my-lab/lib/python3.12/pty.py:95: DeprecationWarning: This process (pid=387609) is multi-threaded, use of forkpty() may lead to deadlocks in the child.\n",
      "  pid, fd = os.forkpty()\n"
     ]
    }
   ],
   "source": [
    "!pip -qqq install feast\n",
    "!pip -qqq install redis\n",
    "!pip -qqq install pyspark==3.0.1"
   ]
  },
  {
   "cell_type": "code",
   "execution_count": 1,
   "metadata": {},
   "outputs": [],
   "source": [
    "from feast import FeatureStore\n",
    "import pandas as pd\n",
    "from datetime import datetime"
   ]
  },
  {
   "cell_type": "code",
   "execution_count": 4,
   "metadata": {},
   "outputs": [
    {
     "name": "stderr",
     "output_type": "stream",
     "text": [
      "/home/intern-golang01/anaconda3/envs/my-lab/lib/python3.12/site-packages/feast/repo_config.py:229: RuntimeWarning: `entity_key_serialization_version` is either not specified in the feature_store.yaml, or is specified to a value <= 1.This serialization version may cause errors when trying to write fields with the `Long` data type into the online store. Specifying `entity_key_serialization_version` to 2 is recommended for new projects. \n",
      "  warnings.warn(\n"
     ]
    }
   ],
   "source": [
    "store = FeatureStore(repo_path=\"feature_repo\")  # (1)"
   ]
  },
  {
   "cell_type": "code",
   "execution_count": 5,
   "metadata": {},
   "outputs": [
    {
     "data": {
      "text/html": [
       "<div>\n",
       "<style scoped>\n",
       "    .dataframe tbody tr th:only-of-type {\n",
       "        vertical-align: middle;\n",
       "    }\n",
       "\n",
       "    .dataframe tbody tr th {\n",
       "        vertical-align: top;\n",
       "    }\n",
       "\n",
       "    .dataframe thead th {\n",
       "        text-align: right;\n",
       "    }\n",
       "</style>\n",
       "<table border=\"1\" class=\"dataframe\">\n",
       "  <thead>\n",
       "    <tr style=\"text-align: right;\">\n",
       "      <th></th>\n",
       "      <th>datetime</th>\n",
       "      <th>driver_id</th>\n",
       "      <th>conv_rate</th>\n",
       "      <th>acc_rate</th>\n",
       "      <th>avg_daily_trips</th>\n",
       "      <th>created</th>\n",
       "    </tr>\n",
       "  </thead>\n",
       "  <tbody>\n",
       "    <tr>\n",
       "      <th>0</th>\n",
       "      <td>2021-07-13 11:00:00+00:00</td>\n",
       "      <td>1005</td>\n",
       "      <td>0.373837</td>\n",
       "      <td>0.154890</td>\n",
       "      <td>498</td>\n",
       "      <td>2021-07-28 11:08:04.802</td>\n",
       "    </tr>\n",
       "    <tr>\n",
       "      <th>1</th>\n",
       "      <td>2021-07-13 12:00:00+00:00</td>\n",
       "      <td>1005</td>\n",
       "      <td>0.571627</td>\n",
       "      <td>0.643958</td>\n",
       "      <td>656</td>\n",
       "      <td>2021-07-28 11:08:04.802</td>\n",
       "    </tr>\n",
       "    <tr>\n",
       "      <th>2</th>\n",
       "      <td>2021-07-13 13:00:00+00:00</td>\n",
       "      <td>1005</td>\n",
       "      <td>0.399909</td>\n",
       "      <td>0.993888</td>\n",
       "      <td>722</td>\n",
       "      <td>2021-07-28 11:08:04.802</td>\n",
       "    </tr>\n",
       "    <tr>\n",
       "      <th>3</th>\n",
       "      <td>2021-07-13 14:00:00+00:00</td>\n",
       "      <td>1005</td>\n",
       "      <td>0.967468</td>\n",
       "      <td>0.788458</td>\n",
       "      <td>424</td>\n",
       "      <td>2021-07-28 11:08:04.802</td>\n",
       "    </tr>\n",
       "    <tr>\n",
       "      <th>4</th>\n",
       "      <td>2021-07-13 15:00:00+00:00</td>\n",
       "      <td>1005</td>\n",
       "      <td>0.024679</td>\n",
       "      <td>0.956064</td>\n",
       "      <td>569</td>\n",
       "      <td>2021-07-28 11:08:04.802</td>\n",
       "    </tr>\n",
       "    <tr>\n",
       "      <th>...</th>\n",
       "      <td>...</td>\n",
       "      <td>...</td>\n",
       "      <td>...</td>\n",
       "      <td>...</td>\n",
       "      <td>...</td>\n",
       "      <td>...</td>\n",
       "    </tr>\n",
       "    <tr>\n",
       "      <th>1802</th>\n",
       "      <td>2021-07-28 09:00:00+00:00</td>\n",
       "      <td>1001</td>\n",
       "      <td>0.089418</td>\n",
       "      <td>0.311234</td>\n",
       "      <td>485</td>\n",
       "      <td>2021-07-28 11:08:04.802</td>\n",
       "    </tr>\n",
       "    <tr>\n",
       "      <th>1803</th>\n",
       "      <td>2021-07-28 10:00:00+00:00</td>\n",
       "      <td>1001</td>\n",
       "      <td>0.222534</td>\n",
       "      <td>0.927691</td>\n",
       "      <td>114</td>\n",
       "      <td>2021-07-28 11:08:04.802</td>\n",
       "    </tr>\n",
       "    <tr>\n",
       "      <th>1804</th>\n",
       "      <td>2021-04-12 07:00:00+00:00</td>\n",
       "      <td>1001</td>\n",
       "      <td>0.175219</td>\n",
       "      <td>0.761434</td>\n",
       "      <td>385</td>\n",
       "      <td>2021-07-28 11:08:04.802</td>\n",
       "    </tr>\n",
       "    <tr>\n",
       "      <th>902</th>\n",
       "      <td>2021-07-20 23:00:00+00:00</td>\n",
       "      <td>1003</td>\n",
       "      <td>0.025968</td>\n",
       "      <td>0.109748</td>\n",
       "      <td>55</td>\n",
       "      <td>2021-07-28 11:08:04.802</td>\n",
       "    </tr>\n",
       "    <tr>\n",
       "      <th>902</th>\n",
       "      <td>2021-07-20 23:00:00+00:00</td>\n",
       "      <td>1003</td>\n",
       "      <td>0.025968</td>\n",
       "      <td>0.109748</td>\n",
       "      <td>55</td>\n",
       "      <td>2021-07-28 11:08:04.802</td>\n",
       "    </tr>\n",
       "  </tbody>\n",
       "</table>\n",
       "<p>1807 rows × 6 columns</p>\n",
       "</div>"
      ],
      "text/plain": [
       "                      datetime  driver_id  conv_rate  acc_rate  \\\n",
       "0    2021-07-13 11:00:00+00:00       1005   0.373837  0.154890   \n",
       "1    2021-07-13 12:00:00+00:00       1005   0.571627  0.643958   \n",
       "2    2021-07-13 13:00:00+00:00       1005   0.399909  0.993888   \n",
       "3    2021-07-13 14:00:00+00:00       1005   0.967468  0.788458   \n",
       "4    2021-07-13 15:00:00+00:00       1005   0.024679  0.956064   \n",
       "...                        ...        ...        ...       ...   \n",
       "1802 2021-07-28 09:00:00+00:00       1001   0.089418  0.311234   \n",
       "1803 2021-07-28 10:00:00+00:00       1001   0.222534  0.927691   \n",
       "1804 2021-04-12 07:00:00+00:00       1001   0.175219  0.761434   \n",
       "902  2021-07-20 23:00:00+00:00       1003   0.025968  0.109748   \n",
       "902  2021-07-20 23:00:00+00:00       1003   0.025968  0.109748   \n",
       "\n",
       "      avg_daily_trips                 created  \n",
       "0                 498 2021-07-28 11:08:04.802  \n",
       "1                 656 2021-07-28 11:08:04.802  \n",
       "2                 722 2021-07-28 11:08:04.802  \n",
       "3                 424 2021-07-28 11:08:04.802  \n",
       "4                 569 2021-07-28 11:08:04.802  \n",
       "...               ...                     ...  \n",
       "1802              485 2021-07-28 11:08:04.802  \n",
       "1803              114 2021-07-28 11:08:04.802  \n",
       "1804              385 2021-07-28 11:08:04.802  \n",
       "902                55 2021-07-28 11:08:04.802  \n",
       "902                55 2021-07-28 11:08:04.802  \n",
       "\n",
       "[1807 rows x 6 columns]"
      ]
     },
     "execution_count": 5,
     "metadata": {},
     "output_type": "execute_result"
    }
   ],
   "source": [
    "pd.read_parquet(\"data_sources/driver_stats.parquet\")"
   ]
  },
  {
   "cell_type": "code",
   "execution_count": null,
   "metadata": {},
   "outputs": [],
   "source": []
  }
 ],
 "metadata": {
  "kernelspec": {
   "display_name": "my-lab",
   "language": "python",
   "name": "python3"
  },
  "language_info": {
   "codemirror_mode": {
    "name": "ipython",
    "version": 3
   },
   "file_extension": ".py",
   "mimetype": "text/x-python",
   "name": "python",
   "nbconvert_exporter": "python",
   "pygments_lexer": "ipython3",
   "version": "3.12.4"
  }
 },
 "nbformat": 4,
 "nbformat_minor": 2
}
